{
    "cells": [
        {
            "cell_type": "markdown",
            "metadata": {
                "collapsed": true
            },
            "source": "# Taller Introducci\u00f3n a inteligencia artificial. (Pr\u00e1tico)"
        },
        {
            "cell_type": "markdown",
            "metadata": {},
            "source": "### En este taller pr\u00e1ctico, aprenderan a crear su propio modelo para clasificar tres tipos de plantas de iris.\n\n\n* Que aprenderemos hoy\n  * Aprender\u00e1s a utilizar notebook y su sintaxis sencilla\n  * Aprender\u00e1s las librerias para el tratamiento de la data\n  * Aprender\u00e1s nociones basicas de la libreria scikitlearn para crear modelos\n  * Aprender\u00e1s a separar su dataser en training - test\n  * Aprender\u00e1s a entrenar su modelo con diferentes parametros.\n  * Aprender\u00e1s a probar el modelo entrenado con la data de validacion.\n  * Aprender\u00e1s a Visualizar su modelo final.\n  * Aprender\u00e1s a utilizar las herramientas de metrica para evaluar el modelo.  "
        },
        {
            "cell_type": "markdown",
            "metadata": {},
            "source": "Que es un notebook en python?"
        },
        {
            "cell_type": "markdown",
            "metadata": {},
            "source": "Un notebook en python es una aplicaci\u00f3n web open-source que permite crear y compartir documentos que contienen c\u00f3digo en vivo, ecuaciones, visualizaci\u00f3n y narraci\u00f3n de texto. Entre los usos m\u00e1s comunes incluye limpieza y transformacion de la data, simulaci\u00f3n num\u00e9rica, modelos estad\u00edsticos, visualizaci\u00f3n de datos, machine learning y mucho m\u00e1s. EL proyecto de Jupyter notebook existe para desarrollar software de c\u00f3digo abierto, est\u00e1ndares abiertos y servicios para interacci\u00f3n computacional entre docenas de lenguajes de programaci\u00f3n."
        },
        {
            "cell_type": "markdown",
            "metadata": {},
            "source": "Okay ya se lo que es un notebook, pero y que es python?"
        },
        {
            "cell_type": "markdown",
            "metadata": {},
            "source": "Python es un lenguaje de programaci\u00f3n interpretado cuya filosof\u00eda hace hincapi\u00e9 en la legibilidad de su c\u00f3digo.\u200b Se trata de un lenguaje de programaci\u00f3n multiparadigma, ya que soporta orientaci\u00f3n a objetos, programaci\u00f3n imperativa y, en menor medida, programaci\u00f3n funcional."
        },
        {
            "cell_type": "markdown",
            "metadata": {},
            "source": "Tienes o no diabetes?\n\n<img src=\"https://www.lavanguardia.com/r/GODO/LV/p6/WebSite/2019/11/13/Recortada/img_efreire_20191113-234642_imagenes_lv_terceros_diabetes01-kzwH-U471587015893kpE-992x558@LaVanguardia-Web.jpg\"/>"
        },
        {
            "cell_type": "markdown",
            "metadata": {},
            "source": "## Importar las librerias"
        },
        {
            "cell_type": "code",
            "execution_count": 4,
            "metadata": {},
            "outputs": [],
            "source": "## Importar las librerias\nimport pandas as pd\nimport numpy as np\nfrom sklearn.model_selection import cross_val_score\nfrom sklearn.tree import DecisionTreeClassifier\nfrom sklearn.preprocessing import StandardScaler\nfrom sklearn.model_selection import train_test_split\nfrom sklearn.metrics import confusion_matrix, classification_report,accuracy_score\n\n# Import model\nfrom sklearn.datasets import load_diabetes\n\n#Import visual libraries\n%matplotlib inline\n\nimport matplotlib.pyplot as plt\n# !pip install seaborn\nimport seaborn as sns"
        },
        {
            "cell_type": "markdown",
            "metadata": {},
            "source": "## Importar Conjunto de datos"
        },
        {
            "cell_type": "code",
            "execution_count": 41,
            "metadata": {},
            "outputs": [],
            "source": "#import Data"
        },
        {
            "cell_type": "code",
            "execution_count": 2,
            "metadata": {
                "scrolled": true
            },
            "outputs": [],
            "source": "# The code was removed by Watson Studio for sharing."
        },
        {
            "cell_type": "code",
            "execution_count": 3,
            "metadata": {},
            "outputs": [],
            "source": "# y"
        },
        {
            "cell_type": "code",
            "execution_count": 4,
            "metadata": {},
            "outputs": [],
            "source": "# df.head()"
        },
        {
            "cell_type": "code",
            "execution_count": 5,
            "metadata": {},
            "outputs": [],
            "source": "#Lets describe using statistic our data\n"
        },
        {
            "cell_type": "code",
            "execution_count": 6,
            "metadata": {},
            "outputs": [],
            "source": "#Matrix correlation\n"
        },
        {
            "cell_type": "markdown",
            "metadata": {},
            "source": "## Analizar y Limpiar los datos"
        },
        {
            "cell_type": "code",
            "execution_count": 8,
            "metadata": {},
            "outputs": [],
            "source": "#Graph\n# plt.hist(df['sepal length (cm)'])"
        },
        {
            "cell_type": "code",
            "execution_count": 7,
            "metadata": {},
            "outputs": [],
            "source": "# sns.distplot(df['petal width (cm)'])"
        },
        {
            "cell_type": "code",
            "execution_count": null,
            "metadata": {},
            "outputs": [],
            "source": ""
        },
        {
            "cell_type": "code",
            "execution_count": 60,
            "metadata": {},
            "outputs": [],
            "source": "#Clean"
        },
        {
            "cell_type": "markdown",
            "metadata": {},
            "source": "#### Standarization or normalization\n\n* z = (x - u) / s \n* x = cada registro\n* u = media\n* s = desviacion"
        },
        {
            "cell_type": "code",
            "execution_count": 9,
            "metadata": {},
            "outputs": [],
            "source": "# df.head()"
        },
        {
            "cell_type": "markdown",
            "metadata": {},
            "source": "## Separar los datos en (Training, Test)"
        },
        {
            "cell_type": "code",
            "execution_count": 72,
            "metadata": {},
            "outputs": [],
            "source": "#Split training / Test in 80% / 20%\n"
        },
        {
            "cell_type": "code",
            "execution_count": 10,
            "metadata": {},
            "outputs": [],
            "source": "# print(\"Training input size: \", X_train.shape, \"\\nTraining output size: \", y_train.shape, \"\\nTest input size: \", X_test.shape, \"\\nTest output size: \", y_test.shape)"
        },
        {
            "cell_type": "code",
            "execution_count": 11,
            "metadata": {},
            "outputs": [],
            "source": "# X_train.head()"
        },
        {
            "cell_type": "markdown",
            "metadata": {},
            "source": "## Lets build our first model (Vamos a crear nuestro primer modelo!!)"
        },
        {
            "cell_type": "code",
            "execution_count": 80,
            "metadata": {},
            "outputs": [],
            "source": "## Create an instance of the desicion tree model"
        },
        {
            "cell_type": "code",
            "execution_count": 12,
            "metadata": {},
            "outputs": [],
            "source": "## Parameters we should considered in our model"
        },
        {
            "cell_type": "code",
            "execution_count": 13,
            "metadata": {},
            "outputs": [],
            "source": "## Lets train our model, how people call you when you are going to the gym and you are in shape! Clue: That you are a (fit) person"
        },
        {
            "cell_type": "code",
            "execution_count": 83,
            "metadata": {},
            "outputs": [],
            "source": "# !pip install --upgrade sklearn\n# !pip install scikit-learn\n# from sklearn.tree import plot_tree"
        },
        {
            "cell_type": "code",
            "execution_count": 14,
            "metadata": {},
            "outputs": [],
            "source": "## Lets evaluate our model with the test data\n# evaluation"
        },
        {
            "cell_type": "code",
            "execution_count": 3,
            "metadata": {},
            "outputs": [],
            "source": "## Lets create a confusion matrix with the predicted data and the real data\n# confusion_matrix(y_test, evaluation)\n"
        },
        {
            "cell_type": "code",
            "execution_count": 15,
            "metadata": {},
            "outputs": [],
            "source": "# print(classification_report(y_test, evaluation))"
        },
        {
            "cell_type": "code",
            "execution_count": 16,
            "metadata": {},
            "outputs": [],
            "source": "#accuracy"
        },
        {
            "cell_type": "markdown",
            "metadata": {},
            "source": "## Separemos los datos ahora en tres (Training, Test y Validation)"
        },
        {
            "cell_type": "code",
            "execution_count": null,
            "metadata": {},
            "outputs": [],
            "source": "#Split training / Test / Validation in (##)% (##)% (##%)"
        },
        {
            "cell_type": "code",
            "execution_count": null,
            "metadata": {},
            "outputs": [],
            "source": "#Show our datasets"
        },
        {
            "cell_type": "code",
            "execution_count": null,
            "metadata": {},
            "outputs": [],
            "source": "#print our dataset"
        },
        {
            "cell_type": "markdown",
            "metadata": {},
            "source": "## Lets build our second model (Vamos a crear nuestro segundo modelo!!)"
        },
        {
            "cell_type": "code",
            "execution_count": null,
            "metadata": {},
            "outputs": [],
            "source": "## Create an instance of the desicion tree model"
        },
        {
            "cell_type": "code",
            "execution_count": null,
            "metadata": {},
            "outputs": [],
            "source": "## Lets train our model, how people call you when you are going to the gym and you are in shape! Clue: That you are a ___ person"
        },
        {
            "cell_type": "code",
            "execution_count": null,
            "metadata": {},
            "outputs": [],
            "source": "## Lets evaluate our model with the test data"
        },
        {
            "cell_type": "code",
            "execution_count": null,
            "metadata": {},
            "outputs": [],
            "source": "## Lets create a confusion matrix with the predicted data and the real data"
        },
        {
            "cell_type": "code",
            "execution_count": null,
            "metadata": {},
            "outputs": [],
            "source": "## Metrics to evaluate our predictions. Clue: We used 4 in the introduction to Artificial Intelligence"
        },
        {
            "cell_type": "code",
            "execution_count": null,
            "metadata": {},
            "outputs": [],
            "source": "## Lets check if our model is overfitting or underfitting"
        },
        {
            "cell_type": "code",
            "execution_count": null,
            "metadata": {},
            "outputs": [],
            "source": ""
        },
        {
            "cell_type": "markdown",
            "metadata": {},
            "source": "## Separemos los datos ahora en (Training, Test) usando cross validation"
        },
        {
            "cell_type": "code",
            "execution_count": null,
            "metadata": {},
            "outputs": [],
            "source": "#Split training / Test / Validation in (##)% (##)% (##%)"
        },
        {
            "cell_type": "code",
            "execution_count": null,
            "metadata": {},
            "outputs": [],
            "source": "## Create an instance of the desicion tree model"
        },
        {
            "cell_type": "code",
            "execution_count": null,
            "metadata": {},
            "outputs": [],
            "source": "## Lets train our model, using cross validation"
        },
        {
            "cell_type": "code",
            "execution_count": null,
            "metadata": {},
            "outputs": [],
            "source": "## Lets evaluate our model with the test data"
        },
        {
            "cell_type": "code",
            "execution_count": null,
            "metadata": {},
            "outputs": [],
            "source": "## Lets create a confusion matrix with the predicted data and the real data"
        },
        {
            "cell_type": "code",
            "execution_count": null,
            "metadata": {},
            "outputs": [],
            "source": "## Metrics to evaluate our predictions. Clue: We used 4 in the introduction to Artificial Intelligence"
        },
        {
            "cell_type": "code",
            "execution_count": null,
            "metadata": {},
            "outputs": [],
            "source": "## Lets check if our model is overfitting or underfitting"
        },
        {
            "cell_type": "code",
            "execution_count": null,
            "metadata": {},
            "outputs": [],
            "source": ""
        }
    ],
    "metadata": {
        "kernelspec": {
            "display_name": "Python 3.6",
            "language": "python",
            "name": "python3"
        },
        "language_info": {
            "codemirror_mode": {
                "name": "ipython",
                "version": 3
            },
            "file_extension": ".py",
            "mimetype": "text/x-python",
            "name": "python",
            "nbconvert_exporter": "python",
            "pygments_lexer": "ipython3",
            "version": "3.6.9"
        }
    },
    "nbformat": 4,
    "nbformat_minor": 1
}