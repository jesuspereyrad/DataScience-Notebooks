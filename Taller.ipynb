{
    "cells": [
        {
            "cell_type": "markdown",
            "metadata": {
                "collapsed": true
            },
            "source": "# Taller Introducci\u00f3n a inteligencia artificial. (Pr\u00e1tico)"
        },
        {
            "cell_type": "markdown",
            "metadata": {},
            "source": "### En este taller pr\u00e1ctico, aprenderan a crear su propio modelo para clasificar tres tipos de plantas de iris.\n\n\n* Que aprenderemos hoy\n  * Aprender\u00e1s a utilizar notebook y su sintaxis sencilla\n  * Aprender\u00e1s las librerias para el tratamiento de la data\n  * Aprender\u00e1s nociones basicas de la libreria scikitlearn para crear modelos\n  * Aprender\u00e1s a separar su dataser en training - test\n  * Aprender\u00e1s a entrenar su modelo con diferentes parametros.\n  * Aprender\u00e1s a probar el modelo entrenado con la data de validacion.\n  * Aprender\u00e1s a Visualizar su modelo final.\n  * Aprender\u00e1s a utilizar las herramientas de metrica para evaluar el modelo.  "
        },
        {
            "cell_type": "markdown",
            "metadata": {},
            "source": "Que es un notebook en python?"
        },
        {
            "cell_type": "markdown",
            "metadata": {},
            "source": "Un notebook en python es una aplicaci\u00f3n web open-source que permite crear y compartir documentos que contienen c\u00f3digo en vivo, ecuaciones, visualizaci\u00f3n y narraci\u00f3n de texto. Entre los usos m\u00e1s comunes incluye limpieza y transformacion de la data, simulaci\u00f3n num\u00e9rica, modelos estad\u00edsticos, visualizaci\u00f3n de datos, machine learning y mucho m\u00e1s. EL proyecto de Jupyter notebook existe para desarrollar software de c\u00f3digo abierto, est\u00e1ndares abiertos y servicios para interacci\u00f3n computacional entre docenas de lenguajes de programaci\u00f3n."
        },
        {
            "cell_type": "markdown",
            "metadata": {},
            "source": "Okay ya se lo que es un notebook, pero y que es python?"
        },
        {
            "cell_type": "markdown",
            "metadata": {},
            "source": "Python es un lenguaje de programaci\u00f3n interpretado cuya filosof\u00eda hace hincapi\u00e9 en la legibilidad de su c\u00f3digo.\u200b Se trata de un lenguaje de programaci\u00f3n multiparadigma, ya que soporta orientaci\u00f3n a objetos, programaci\u00f3n imperativa y, en menor medida, programaci\u00f3n funcional."
        },
        {
            "cell_type": "markdown",
            "metadata": {},
            "source": "Cuales son las plantas con las que vamos a trabajar hoy?\n\n<img src=\"https://s3.amazonaws.com/assets.datacamp.com/blog_assets/Machine+Learning+R/iris-machinelearning.png\"/>"
        },
        {
            "cell_type": "markdown",
            "metadata": {},
            "source": "## Importar las librerias"
        },
        {
            "cell_type": "code",
            "execution_count": 6,
            "metadata": {},
            "outputs": [],
            "source": "## Importar las librerias\nimport pandas as pd\nimport numpy as np\n# !pip install --upgrade sklearn\nfrom sklearn.model_selection import cross_val_score\nfrom sklearn.tree import DecisionTreeClassifier\nfrom sklearn.preprocessing import StandardScaler\nfrom sklearn.model_selection import train_test_split\n# from sklearn.tree import plot_tree\n# Import model\nfrom sklearn.datasets import load_iris\n\n#Import visual libraries\n%matplotlib inline\n\nimport matplotlib.pyplot as plt\n# !pip install seaborn\nimport seaborn as sns"
        },
        {
            "cell_type": "markdown",
            "metadata": {},
            "source": "## Importar Conjunto de datos"
        },
        {
            "cell_type": "code",
            "execution_count": 7,
            "metadata": {},
            "outputs": [],
            "source": "#import Data\ndata = load_iris()\nX = data.data\ny = data.target\n"
        },
        {
            "cell_type": "code",
            "execution_count": 8,
            "metadata": {
                "scrolled": true
            },
            "outputs": [
                {
                    "data": {
                        "text/plain": "array([[5.1, 3.5, 1.4, 0.2],\n       [4.9, 3. , 1.4, 0.2],\n       [4.7, 3.2, 1.3, 0.2],\n       [4.6, 3.1, 1.5, 0.2],\n       [5. , 3.6, 1.4, 0.2],\n       [5.4, 3.9, 1.7, 0.4],\n       [4.6, 3.4, 1.4, 0.3],\n       [5. , 3.4, 1.5, 0.2],\n       [4.4, 2.9, 1.4, 0.2],\n       [4.9, 3.1, 1.5, 0.1],\n       [5.4, 3.7, 1.5, 0.2],\n       [4.8, 3.4, 1.6, 0.2],\n       [4.8, 3. , 1.4, 0.1],\n       [4.3, 3. , 1.1, 0.1],\n       [5.8, 4. , 1.2, 0.2],\n       [5.7, 4.4, 1.5, 0.4],\n       [5.4, 3.9, 1.3, 0.4],\n       [5.1, 3.5, 1.4, 0.3],\n       [5.7, 3.8, 1.7, 0.3],\n       [5.1, 3.8, 1.5, 0.3],\n       [5.4, 3.4, 1.7, 0.2],\n       [5.1, 3.7, 1.5, 0.4],\n       [4.6, 3.6, 1. , 0.2],\n       [5.1, 3.3, 1.7, 0.5],\n       [4.8, 3.4, 1.9, 0.2],\n       [5. , 3. , 1.6, 0.2],\n       [5. , 3.4, 1.6, 0.4],\n       [5.2, 3.5, 1.5, 0.2],\n       [5.2, 3.4, 1.4, 0.2],\n       [4.7, 3.2, 1.6, 0.2],\n       [4.8, 3.1, 1.6, 0.2],\n       [5.4, 3.4, 1.5, 0.4],\n       [5.2, 4.1, 1.5, 0.1],\n       [5.5, 4.2, 1.4, 0.2],\n       [4.9, 3.1, 1.5, 0.2],\n       [5. , 3.2, 1.2, 0.2],\n       [5.5, 3.5, 1.3, 0.2],\n       [4.9, 3.6, 1.4, 0.1],\n       [4.4, 3. , 1.3, 0.2],\n       [5.1, 3.4, 1.5, 0.2],\n       [5. , 3.5, 1.3, 0.3],\n       [4.5, 2.3, 1.3, 0.3],\n       [4.4, 3.2, 1.3, 0.2],\n       [5. , 3.5, 1.6, 0.6],\n       [5.1, 3.8, 1.9, 0.4],\n       [4.8, 3. , 1.4, 0.3],\n       [5.1, 3.8, 1.6, 0.2],\n       [4.6, 3.2, 1.4, 0.2],\n       [5.3, 3.7, 1.5, 0.2],\n       [5. , 3.3, 1.4, 0.2],\n       [7. , 3.2, 4.7, 1.4],\n       [6.4, 3.2, 4.5, 1.5],\n       [6.9, 3.1, 4.9, 1.5],\n       [5.5, 2.3, 4. , 1.3],\n       [6.5, 2.8, 4.6, 1.5],\n       [5.7, 2.8, 4.5, 1.3],\n       [6.3, 3.3, 4.7, 1.6],\n       [4.9, 2.4, 3.3, 1. ],\n       [6.6, 2.9, 4.6, 1.3],\n       [5.2, 2.7, 3.9, 1.4],\n       [5. , 2. , 3.5, 1. ],\n       [5.9, 3. , 4.2, 1.5],\n       [6. , 2.2, 4. , 1. ],\n       [6.1, 2.9, 4.7, 1.4],\n       [5.6, 2.9, 3.6, 1.3],\n       [6.7, 3.1, 4.4, 1.4],\n       [5.6, 3. , 4.5, 1.5],\n       [5.8, 2.7, 4.1, 1. ],\n       [6.2, 2.2, 4.5, 1.5],\n       [5.6, 2.5, 3.9, 1.1],\n       [5.9, 3.2, 4.8, 1.8],\n       [6.1, 2.8, 4. , 1.3],\n       [6.3, 2.5, 4.9, 1.5],\n       [6.1, 2.8, 4.7, 1.2],\n       [6.4, 2.9, 4.3, 1.3],\n       [6.6, 3. , 4.4, 1.4],\n       [6.8, 2.8, 4.8, 1.4],\n       [6.7, 3. , 5. , 1.7],\n       [6. , 2.9, 4.5, 1.5],\n       [5.7, 2.6, 3.5, 1. ],\n       [5.5, 2.4, 3.8, 1.1],\n       [5.5, 2.4, 3.7, 1. ],\n       [5.8, 2.7, 3.9, 1.2],\n       [6. , 2.7, 5.1, 1.6],\n       [5.4, 3. , 4.5, 1.5],\n       [6. , 3.4, 4.5, 1.6],\n       [6.7, 3.1, 4.7, 1.5],\n       [6.3, 2.3, 4.4, 1.3],\n       [5.6, 3. , 4.1, 1.3],\n       [5.5, 2.5, 4. , 1.3],\n       [5.5, 2.6, 4.4, 1.2],\n       [6.1, 3. , 4.6, 1.4],\n       [5.8, 2.6, 4. , 1.2],\n       [5. , 2.3, 3.3, 1. ],\n       [5.6, 2.7, 4.2, 1.3],\n       [5.7, 3. , 4.2, 1.2],\n       [5.7, 2.9, 4.2, 1.3],\n       [6.2, 2.9, 4.3, 1.3],\n       [5.1, 2.5, 3. , 1.1],\n       [5.7, 2.8, 4.1, 1.3],\n       [6.3, 3.3, 6. , 2.5],\n       [5.8, 2.7, 5.1, 1.9],\n       [7.1, 3. , 5.9, 2.1],\n       [6.3, 2.9, 5.6, 1.8],\n       [6.5, 3. , 5.8, 2.2],\n       [7.6, 3. , 6.6, 2.1],\n       [4.9, 2.5, 4.5, 1.7],\n       [7.3, 2.9, 6.3, 1.8],\n       [6.7, 2.5, 5.8, 1.8],\n       [7.2, 3.6, 6.1, 2.5],\n       [6.5, 3.2, 5.1, 2. ],\n       [6.4, 2.7, 5.3, 1.9],\n       [6.8, 3. , 5.5, 2.1],\n       [5.7, 2.5, 5. , 2. ],\n       [5.8, 2.8, 5.1, 2.4],\n       [6.4, 3.2, 5.3, 2.3],\n       [6.5, 3. , 5.5, 1.8],\n       [7.7, 3.8, 6.7, 2.2],\n       [7.7, 2.6, 6.9, 2.3],\n       [6. , 2.2, 5. , 1.5],\n       [6.9, 3.2, 5.7, 2.3],\n       [5.6, 2.8, 4.9, 2. ],\n       [7.7, 2.8, 6.7, 2. ],\n       [6.3, 2.7, 4.9, 1.8],\n       [6.7, 3.3, 5.7, 2.1],\n       [7.2, 3.2, 6. , 1.8],\n       [6.2, 2.8, 4.8, 1.8],\n       [6.1, 3. , 4.9, 1.8],\n       [6.4, 2.8, 5.6, 2.1],\n       [7.2, 3. , 5.8, 1.6],\n       [7.4, 2.8, 6.1, 1.9],\n       [7.9, 3.8, 6.4, 2. ],\n       [6.4, 2.8, 5.6, 2.2],\n       [6.3, 2.8, 5.1, 1.5],\n       [6.1, 2.6, 5.6, 1.4],\n       [7.7, 3. , 6.1, 2.3],\n       [6.3, 3.4, 5.6, 2.4],\n       [6.4, 3.1, 5.5, 1.8],\n       [6. , 3. , 4.8, 1.8],\n       [6.9, 3.1, 5.4, 2.1],\n       [6.7, 3.1, 5.6, 2.4],\n       [6.9, 3.1, 5.1, 2.3],\n       [5.8, 2.7, 5.1, 1.9],\n       [6.8, 3.2, 5.9, 2.3],\n       [6.7, 3.3, 5.7, 2.5],\n       [6.7, 3. , 5.2, 2.3],\n       [6.3, 2.5, 5. , 1.9],\n       [6.5, 3. , 5.2, 2. ],\n       [6.2, 3.4, 5.4, 2.3],\n       [5.9, 3. , 5.1, 1.8]])"
                    },
                    "execution_count": 8,
                    "metadata": {},
                    "output_type": "execute_result"
                }
            ],
            "source": "#Show the data imported\nX"
        },
        {
            "cell_type": "code",
            "execution_count": 9,
            "metadata": {},
            "outputs": [
                {
                    "data": {
                        "text/plain": "array([0, 0, 0, 0, 0, 0, 0, 0, 0, 0, 0, 0, 0, 0, 0, 0, 0, 0, 0, 0, 0, 0,\n       0, 0, 0, 0, 0, 0, 0, 0, 0, 0, 0, 0, 0, 0, 0, 0, 0, 0, 0, 0, 0, 0,\n       0, 0, 0, 0, 0, 0, 1, 1, 1, 1, 1, 1, 1, 1, 1, 1, 1, 1, 1, 1, 1, 1,\n       1, 1, 1, 1, 1, 1, 1, 1, 1, 1, 1, 1, 1, 1, 1, 1, 1, 1, 1, 1, 1, 1,\n       1, 1, 1, 1, 1, 1, 1, 1, 1, 1, 1, 1, 2, 2, 2, 2, 2, 2, 2, 2, 2, 2,\n       2, 2, 2, 2, 2, 2, 2, 2, 2, 2, 2, 2, 2, 2, 2, 2, 2, 2, 2, 2, 2, 2,\n       2, 2, 2, 2, 2, 2, 2, 2, 2, 2, 2, 2, 2, 2, 2, 2, 2, 2])"
                    },
                    "execution_count": 9,
                    "metadata": {},
                    "output_type": "execute_result"
                }
            ],
            "source": "y"
        },
        {
            "cell_type": "code",
            "execution_count": 66,
            "metadata": {},
            "outputs": [
                {
                    "data": {
                        "text/html": "<div>\n<style scoped>\n    .dataframe tbody tr th:only-of-type {\n        vertical-align: middle;\n    }\n\n    .dataframe tbody tr th {\n        vertical-align: top;\n    }\n\n    .dataframe thead th {\n        text-align: right;\n    }\n</style>\n<table border=\"1\" class=\"dataframe\">\n  <thead>\n    <tr style=\"text-align: right;\">\n      <th></th>\n      <th>0</th>\n      <th>1</th>\n      <th>2</th>\n      <th>3</th>\n    </tr>\n  </thead>\n  <tbody>\n    <tr>\n      <th>0</th>\n      <td>5.1</td>\n      <td>3.5</td>\n      <td>1.4</td>\n      <td>0.2</td>\n    </tr>\n    <tr>\n      <th>1</th>\n      <td>4.9</td>\n      <td>3.0</td>\n      <td>1.4</td>\n      <td>0.2</td>\n    </tr>\n    <tr>\n      <th>2</th>\n      <td>4.7</td>\n      <td>3.2</td>\n      <td>1.3</td>\n      <td>0.2</td>\n    </tr>\n    <tr>\n      <th>3</th>\n      <td>4.6</td>\n      <td>3.1</td>\n      <td>1.5</td>\n      <td>0.2</td>\n    </tr>\n    <tr>\n      <th>4</th>\n      <td>5.0</td>\n      <td>3.6</td>\n      <td>1.4</td>\n      <td>0.2</td>\n    </tr>\n  </tbody>\n</table>\n</div>",
                        "text/plain": "     0    1    2    3\n0  5.1  3.5  1.4  0.2\n1  4.9  3.0  1.4  0.2\n2  4.7  3.2  1.3  0.2\n3  4.6  3.1  1.5  0.2\n4  5.0  3.6  1.4  0.2"
                    },
                    "execution_count": 66,
                    "metadata": {},
                    "output_type": "execute_result"
                }
            ],
            "source": "df = pd.DataFrame(X)\ndf.head()"
        },
        {
            "cell_type": "code",
            "execution_count": 12,
            "metadata": {},
            "outputs": [
                {
                    "data": {
                        "text/plain": "array(['setosa', 'versicolor', 'virginica'], dtype='<U10')"
                    },
                    "execution_count": 12,
                    "metadata": {},
                    "output_type": "execute_result"
                }
            ],
            "source": "data.target_names"
        },
        {
            "cell_type": "code",
            "execution_count": 13,
            "metadata": {},
            "outputs": [
                {
                    "data": {
                        "text/plain": "'.. _iris_dataset:\\n\\nIris plants dataset\\n--------------------\\n\\n**Data Set Characteristics:**\\n\\n    :Number of Instances: 150 (50 in each of three classes)\\n    :Number of Attributes: 4 numeric, predictive attributes and the class\\n    :Attribute Information:\\n        - sepal length in cm\\n        - sepal width in cm\\n        - petal length in cm\\n        - petal width in cm\\n        - class:\\n                - Iris-Setosa\\n                - Iris-Versicolour\\n                - Iris-Virginica\\n                \\n    :Summary Statistics:\\n\\n    ============== ==== ==== ======= ===== ====================\\n                    Min  Max   Mean    SD   Class Correlation\\n    ============== ==== ==== ======= ===== ====================\\n    sepal length:   4.3  7.9   5.84   0.83    0.7826\\n    sepal width:    2.0  4.4   3.05   0.43   -0.4194\\n    petal length:   1.0  6.9   3.76   1.76    0.9490  (high!)\\n    petal width:    0.1  2.5   1.20   0.76    0.9565  (high!)\\n    ============== ==== ==== ======= ===== ====================\\n\\n    :Missing Attribute Values: None\\n    :Class Distribution: 33.3% for each of 3 classes.\\n    :Creator: R.A. Fisher\\n    :Donor: Michael Marshall (MARSHALL%PLU@io.arc.nasa.gov)\\n    :Date: July, 1988\\n\\nThe famous Iris database, first used by Sir R.A. Fisher. The dataset is taken\\nfrom Fisher\\'s paper. Note that it\\'s the same as in R, but not as in the UCI\\nMachine Learning Repository, which has two wrong data points.\\n\\nThis is perhaps the best known database to be found in the\\npattern recognition literature.  Fisher\\'s paper is a classic in the field and\\nis referenced frequently to this day.  (See Duda & Hart, for example.)  The\\ndata set contains 3 classes of 50 instances each, where each class refers to a\\ntype of iris plant.  One class is linearly separable from the other 2; the\\nlatter are NOT linearly separable from each other.\\n\\n.. topic:: References\\n\\n   - Fisher, R.A. \"The use of multiple measurements in taxonomic problems\"\\n     Annual Eugenics, 7, Part II, 179-188 (1936); also in \"Contributions to\\n     Mathematical Statistics\" (John Wiley, NY, 1950).\\n   - Duda, R.O., & Hart, P.E. (1973) Pattern Classification and Scene Analysis.\\n     (Q327.D83) John Wiley & Sons.  ISBN 0-471-22361-1.  See page 218.\\n   - Dasarathy, B.V. (1980) \"Nosing Around the Neighborhood: A New System\\n     Structure and Classification Rule for Recognition in Partially Exposed\\n     Environments\".  IEEE Transactions on Pattern Analysis and Machine\\n     Intelligence, Vol. PAMI-2, No. 1, 67-71.\\n   - Gates, G.W. (1972) \"The Reduced Nearest Neighbor Rule\".  IEEE Transactions\\n     on Information Theory, May 1972, 431-433.\\n   - See also: 1988 MLC Proceedings, 54-64.  Cheeseman et al\"s AUTOCLASS II\\n     conceptual clustering system finds 3 classes in the data.\\n   - Many, many more ...'"
                    },
                    "execution_count": 13,
                    "metadata": {},
                    "output_type": "execute_result"
                }
            ],
            "source": "data.DESCR"
        },
        {
            "cell_type": "code",
            "execution_count": 14,
            "metadata": {},
            "outputs": [
                {
                    "name": "stdout",
                    "output_type": "stream",
                    "text": ".. _iris_dataset:\n\nIris plants dataset\n--------------------\n\n**Data Set Characteristics:**\n\n    :Number of Instances: 150 (50 in each of three classes)\n    :Number of Attributes: 4 numeric, predictive attributes and the class\n    :Attribute Information:\n        - sepal length in cm\n        - sepal width in cm\n        - petal length in cm\n        - petal width in cm\n        - class:\n                - Iris-Setosa\n                - Iris-Versicolour\n                - Iris-Virginica\n                \n    :Summary Statistics:\n\n    ============== ==== ==== ======= ===== ====================\n                    Min  Max   Mean    SD   Class Correlation\n    ============== ==== ==== ======= ===== ====================\n    sepal length:   4.3  7.9   5.84   0.83    0.7826\n    sepal width:    2.0  4.4   3.05   0.43   -0.4194\n    petal length:   1.0  6.9   3.76   1.76    0.9490  (high!)\n    petal width:    0.1  2.5   1.20   0.76    0.9565  (high!)\n    ============== ==== ==== ======= ===== ====================\n\n    :Missing Attribute Values: None\n    :Class Distribution: 33.3% for each of 3 classes.\n    :Creator: R.A. Fisher\n    :Donor: Michael Marshall (MARSHALL%PLU@io.arc.nasa.gov)\n    :Date: July, 1988\n\nThe famous Iris database, first used by Sir R.A. Fisher. The dataset is taken\nfrom Fisher's paper. Note that it's the same as in R, but not as in the UCI\nMachine Learning Repository, which has two wrong data points.\n\nThis is perhaps the best known database to be found in the\npattern recognition literature.  Fisher's paper is a classic in the field and\nis referenced frequently to this day.  (See Duda & Hart, for example.)  The\ndata set contains 3 classes of 50 instances each, where each class refers to a\ntype of iris plant.  One class is linearly separable from the other 2; the\nlatter are NOT linearly separable from each other.\n\n.. topic:: References\n\n   - Fisher, R.A. \"The use of multiple measurements in taxonomic problems\"\n     Annual Eugenics, 7, Part II, 179-188 (1936); also in \"Contributions to\n     Mathematical Statistics\" (John Wiley, NY, 1950).\n   - Duda, R.O., & Hart, P.E. (1973) Pattern Classification and Scene Analysis.\n     (Q327.D83) John Wiley & Sons.  ISBN 0-471-22361-1.  See page 218.\n   - Dasarathy, B.V. (1980) \"Nosing Around the Neighborhood: A New System\n     Structure and Classification Rule for Recognition in Partially Exposed\n     Environments\".  IEEE Transactions on Pattern Analysis and Machine\n     Intelligence, Vol. PAMI-2, No. 1, 67-71.\n   - Gates, G.W. (1972) \"The Reduced Nearest Neighbor Rule\".  IEEE Transactions\n     on Information Theory, May 1972, 431-433.\n   - See also: 1988 MLC Proceedings, 54-64.  Cheeseman et al\"s AUTOCLASS II\n     conceptual clustering system finds 3 classes in the data.\n   - Many, many more ...\n"
                }
            ],
            "source": "print(data.DESCR)"
        },
        {
            "cell_type": "code",
            "execution_count": 67,
            "metadata": {},
            "outputs": [
                {
                    "data": {
                        "text/plain": "['sepal length (cm)',\n 'sepal width (cm)',\n 'petal length (cm)',\n 'petal width (cm)']"
                    },
                    "execution_count": 67,
                    "metadata": {},
                    "output_type": "execute_result"
                }
            ],
            "source": "data.feature_names"
        },
        {
            "cell_type": "code",
            "execution_count": 68,
            "metadata": {},
            "outputs": [],
            "source": "df.columns=data.feature_names"
        },
        {
            "cell_type": "code",
            "execution_count": 17,
            "metadata": {},
            "outputs": [
                {
                    "data": {
                        "text/html": "<div>\n<style scoped>\n    .dataframe tbody tr th:only-of-type {\n        vertical-align: middle;\n    }\n\n    .dataframe tbody tr th {\n        vertical-align: top;\n    }\n\n    .dataframe thead th {\n        text-align: right;\n    }\n</style>\n<table border=\"1\" class=\"dataframe\">\n  <thead>\n    <tr style=\"text-align: right;\">\n      <th></th>\n      <th>sepal length (cm)</th>\n      <th>sepal width (cm)</th>\n      <th>petal length (cm)</th>\n      <th>petal width (cm)</th>\n    </tr>\n  </thead>\n  <tbody>\n    <tr>\n      <th>0</th>\n      <td>5.1</td>\n      <td>3.5</td>\n      <td>1.4</td>\n      <td>0.2</td>\n    </tr>\n    <tr>\n      <th>1</th>\n      <td>4.9</td>\n      <td>3.0</td>\n      <td>1.4</td>\n      <td>0.2</td>\n    </tr>\n    <tr>\n      <th>2</th>\n      <td>4.7</td>\n      <td>3.2</td>\n      <td>1.3</td>\n      <td>0.2</td>\n    </tr>\n    <tr>\n      <th>3</th>\n      <td>4.6</td>\n      <td>3.1</td>\n      <td>1.5</td>\n      <td>0.2</td>\n    </tr>\n    <tr>\n      <th>4</th>\n      <td>5.0</td>\n      <td>3.6</td>\n      <td>1.4</td>\n      <td>0.2</td>\n    </tr>\n  </tbody>\n</table>\n</div>",
                        "text/plain": "   sepal length (cm)  sepal width (cm)  petal length (cm)  petal width (cm)\n0                5.1               3.5                1.4               0.2\n1                4.9               3.0                1.4               0.2\n2                4.7               3.2                1.3               0.2\n3                4.6               3.1                1.5               0.2\n4                5.0               3.6                1.4               0.2"
                    },
                    "execution_count": 17,
                    "metadata": {},
                    "output_type": "execute_result"
                }
            ],
            "source": "df.head()"
        },
        {
            "cell_type": "code",
            "execution_count": 18,
            "metadata": {},
            "outputs": [
                {
                    "data": {
                        "text/html": "<div>\n<style scoped>\n    .dataframe tbody tr th:only-of-type {\n        vertical-align: middle;\n    }\n\n    .dataframe tbody tr th {\n        vertical-align: top;\n    }\n\n    .dataframe thead th {\n        text-align: right;\n    }\n</style>\n<table border=\"1\" class=\"dataframe\">\n  <thead>\n    <tr style=\"text-align: right;\">\n      <th></th>\n      <th>sepal length (cm)</th>\n      <th>sepal width (cm)</th>\n      <th>petal length (cm)</th>\n      <th>petal width (cm)</th>\n    </tr>\n  </thead>\n  <tbody>\n    <tr>\n      <th>count</th>\n      <td>150.000000</td>\n      <td>150.000000</td>\n      <td>150.000000</td>\n      <td>150.000000</td>\n    </tr>\n    <tr>\n      <th>mean</th>\n      <td>5.843333</td>\n      <td>3.057333</td>\n      <td>3.758000</td>\n      <td>1.199333</td>\n    </tr>\n    <tr>\n      <th>std</th>\n      <td>0.828066</td>\n      <td>0.435866</td>\n      <td>1.765298</td>\n      <td>0.762238</td>\n    </tr>\n    <tr>\n      <th>min</th>\n      <td>4.300000</td>\n      <td>2.000000</td>\n      <td>1.000000</td>\n      <td>0.100000</td>\n    </tr>\n    <tr>\n      <th>25%</th>\n      <td>5.100000</td>\n      <td>2.800000</td>\n      <td>1.600000</td>\n      <td>0.300000</td>\n    </tr>\n    <tr>\n      <th>50%</th>\n      <td>5.800000</td>\n      <td>3.000000</td>\n      <td>4.350000</td>\n      <td>1.300000</td>\n    </tr>\n    <tr>\n      <th>75%</th>\n      <td>6.400000</td>\n      <td>3.300000</td>\n      <td>5.100000</td>\n      <td>1.800000</td>\n    </tr>\n    <tr>\n      <th>max</th>\n      <td>7.900000</td>\n      <td>4.400000</td>\n      <td>6.900000</td>\n      <td>2.500000</td>\n    </tr>\n  </tbody>\n</table>\n</div>",
                        "text/plain": "       sepal length (cm)  sepal width (cm)  petal length (cm)  \\\ncount         150.000000        150.000000         150.000000   \nmean            5.843333          3.057333           3.758000   \nstd             0.828066          0.435866           1.765298   \nmin             4.300000          2.000000           1.000000   \n25%             5.100000          2.800000           1.600000   \n50%             5.800000          3.000000           4.350000   \n75%             6.400000          3.300000           5.100000   \nmax             7.900000          4.400000           6.900000   \n\n       petal width (cm)  \ncount        150.000000  \nmean           1.199333  \nstd            0.762238  \nmin            0.100000  \n25%            0.300000  \n50%            1.300000  \n75%            1.800000  \nmax            2.500000  "
                    },
                    "execution_count": 18,
                    "metadata": {},
                    "output_type": "execute_result"
                }
            ],
            "source": "#Lets describe using statistic our data\ndf.describe()"
        },
        {
            "cell_type": "code",
            "execution_count": 19,
            "metadata": {},
            "outputs": [
                {
                    "data": {
                        "text/html": "<div>\n<style scoped>\n    .dataframe tbody tr th:only-of-type {\n        vertical-align: middle;\n    }\n\n    .dataframe tbody tr th {\n        vertical-align: top;\n    }\n\n    .dataframe thead th {\n        text-align: right;\n    }\n</style>\n<table border=\"1\" class=\"dataframe\">\n  <thead>\n    <tr style=\"text-align: right;\">\n      <th></th>\n      <th>sepal length (cm)</th>\n      <th>sepal width (cm)</th>\n      <th>petal length (cm)</th>\n      <th>petal width (cm)</th>\n    </tr>\n  </thead>\n  <tbody>\n    <tr>\n      <th>sepal length (cm)</th>\n      <td>1.000000</td>\n      <td>-0.117570</td>\n      <td>0.871754</td>\n      <td>0.817941</td>\n    </tr>\n    <tr>\n      <th>sepal width (cm)</th>\n      <td>-0.117570</td>\n      <td>1.000000</td>\n      <td>-0.428440</td>\n      <td>-0.366126</td>\n    </tr>\n    <tr>\n      <th>petal length (cm)</th>\n      <td>0.871754</td>\n      <td>-0.428440</td>\n      <td>1.000000</td>\n      <td>0.962865</td>\n    </tr>\n    <tr>\n      <th>petal width (cm)</th>\n      <td>0.817941</td>\n      <td>-0.366126</td>\n      <td>0.962865</td>\n      <td>1.000000</td>\n    </tr>\n  </tbody>\n</table>\n</div>",
                        "text/plain": "                   sepal length (cm)  sepal width (cm)  petal length (cm)  \\\nsepal length (cm)           1.000000         -0.117570           0.871754   \nsepal width (cm)           -0.117570          1.000000          -0.428440   \npetal length (cm)           0.871754         -0.428440           1.000000   \npetal width (cm)            0.817941         -0.366126           0.962865   \n\n                   petal width (cm)  \nsepal length (cm)          0.817941  \nsepal width (cm)          -0.366126  \npetal length (cm)          0.962865  \npetal width (cm)           1.000000  "
                    },
                    "execution_count": 19,
                    "metadata": {},
                    "output_type": "execute_result"
                }
            ],
            "source": "#Matrix correlation\ndf.corr()"
        },
        {
            "cell_type": "code",
            "execution_count": 69,
            "metadata": {},
            "outputs": [],
            "source": "df = df.join(pd.DataFrame(y, columns=['target']))"
        },
        {
            "cell_type": "code",
            "execution_count": 70,
            "metadata": {},
            "outputs": [
                {
                    "data": {
                        "text/html": "<div>\n<style scoped>\n    .dataframe tbody tr th:only-of-type {\n        vertical-align: middle;\n    }\n\n    .dataframe tbody tr th {\n        vertical-align: top;\n    }\n\n    .dataframe thead th {\n        text-align: right;\n    }\n</style>\n<table border=\"1\" class=\"dataframe\">\n  <thead>\n    <tr style=\"text-align: right;\">\n      <th></th>\n      <th>sepal length (cm)</th>\n      <th>sepal width (cm)</th>\n      <th>petal length (cm)</th>\n      <th>petal width (cm)</th>\n      <th>target</th>\n    </tr>\n  </thead>\n  <tbody>\n    <tr>\n      <th>0</th>\n      <td>5.1</td>\n      <td>3.5</td>\n      <td>1.4</td>\n      <td>0.2</td>\n      <td>0</td>\n    </tr>\n    <tr>\n      <th>1</th>\n      <td>4.9</td>\n      <td>3.0</td>\n      <td>1.4</td>\n      <td>0.2</td>\n      <td>0</td>\n    </tr>\n    <tr>\n      <th>2</th>\n      <td>4.7</td>\n      <td>3.2</td>\n      <td>1.3</td>\n      <td>0.2</td>\n      <td>0</td>\n    </tr>\n    <tr>\n      <th>3</th>\n      <td>4.6</td>\n      <td>3.1</td>\n      <td>1.5</td>\n      <td>0.2</td>\n      <td>0</td>\n    </tr>\n    <tr>\n      <th>4</th>\n      <td>5.0</td>\n      <td>3.6</td>\n      <td>1.4</td>\n      <td>0.2</td>\n      <td>0</td>\n    </tr>\n  </tbody>\n</table>\n</div>",
                        "text/plain": "   sepal length (cm)  sepal width (cm)  petal length (cm)  petal width (cm)  \\\n0                5.1               3.5                1.4               0.2   \n1                4.9               3.0                1.4               0.2   \n2                4.7               3.2                1.3               0.2   \n3                4.6               3.1                1.5               0.2   \n4                5.0               3.6                1.4               0.2   \n\n   target  \n0       0  \n1       0  \n2       0  \n3       0  \n4       0  "
                    },
                    "execution_count": 70,
                    "metadata": {},
                    "output_type": "execute_result"
                }
            ],
            "source": "df.head()"
        },
        {
            "cell_type": "markdown",
            "metadata": {},
            "source": "## Analizar y Limpiar los datos"
        },
        {
            "cell_type": "code",
            "execution_count": 22,
            "metadata": {},
            "outputs": [
                {
                    "data": {
                        "text/plain": "(array([ 9., 23., 14., 27., 16., 26., 18.,  6.,  5.,  6.]),\n array([4.3 , 4.66, 5.02, 5.38, 5.74, 6.1 , 6.46, 6.82, 7.18, 7.54, 7.9 ]),\n <a list of 10 Patch objects>)"
                    },
                    "execution_count": 22,
                    "metadata": {},
                    "output_type": "execute_result"
                },
                {
                    "data": {
                        "image/png": "[encoded data removed]",
                        "text/plain": "<Figure size 432x288 with 1 Axes>"
                    },
                    "metadata": {
                        "needs_background": "light"
                    },
                    "output_type": "display_data"
                }
            ],
            "source": "#Graph\nplt.hist(df['sepal length (cm)'])"
        },
        {
            "cell_type": "code",
            "execution_count": null,
            "metadata": {},
            "outputs": [],
            "source": "plt.hist(df['sepal width (cm)'])"
        },
        {
            "cell_type": "code",
            "execution_count": null,
            "metadata": {},
            "outputs": [],
            "source": "plt.hist(df['petal length (cm)'])"
        },
        {
            "cell_type": "code",
            "execution_count": null,
            "metadata": {},
            "outputs": [],
            "source": "plt.hist(df['petal width (cm)'])"
        },
        {
            "cell_type": "code",
            "execution_count": null,
            "metadata": {},
            "outputs": [],
            "source": "sns.distplot(df['petal width (cm)'])"
        },
        {
            "cell_type": "code",
            "execution_count": null,
            "metadata": {},
            "outputs": [],
            "source": ""
        },
        {
            "cell_type": "code",
            "execution_count": null,
            "metadata": {},
            "outputs": [],
            "source": "#Clean"
        },
        {
            "cell_type": "markdown",
            "metadata": {},
            "source": "#### Standarization or normalization\n\n* z = (x - u) / s \n* x = cada registro\n* u = media\n* s = desviacion"
        },
        {
            "cell_type": "code",
            "execution_count": 23,
            "metadata": {},
            "outputs": [
                {
                    "name": "stdout",
                    "output_type": "stream",
                    "text": "mean:  5.843333333333335\nstd:  0.8280661279778629\n"
                }
            ],
            "source": "sepal = df['sepal length (cm)']\nu = sepal.mean()\ns = sepal.std()\nprint('mean: ', u)\nprint('std: ', s)"
        },
        {
            "cell_type": "code",
            "execution_count": 24,
            "metadata": {},
            "outputs": [
                {
                    "data": {
                        "text/plain": "0   -0.897674\n1   -1.139200\n2   -1.380727\n3   -1.501490\n4   -1.018437\nName: sepal length (cm), dtype: float64"
                    },
                    "execution_count": 24,
                    "metadata": {},
                    "output_type": "execute_result"
                }
            ],
            "source": "standarization = (sepal - u) / s\nstandarization.head()"
        },
        {
            "cell_type": "code",
            "execution_count": null,
            "metadata": {},
            "outputs": [],
            "source": "plt.hist(standarization)"
        },
        {
            "cell_type": "code",
            "execution_count": null,
            "metadata": {},
            "outputs": [],
            "source": "#Graph\nplt.hist(df['sepal length (cm)'])"
        },
        {
            "cell_type": "code",
            "execution_count": 26,
            "metadata": {},
            "outputs": [],
            "source": "scaler = StandardScaler()"
        },
        {
            "cell_type": "code",
            "execution_count": 25,
            "metadata": {},
            "outputs": [],
            "source": "df_input =  df[['sepal length (cm)','sepal width (cm)', 'petal length (cm)', 'petal width (cm)']]"
        },
        {
            "cell_type": "code",
            "execution_count": 27,
            "metadata": {},
            "outputs": [
                {
                    "data": {
                        "text/plain": "StandardScaler(copy=True, with_mean=True, with_std=True)"
                    },
                    "execution_count": 27,
                    "metadata": {},
                    "output_type": "execute_result"
                }
            ],
            "source": "scaler.fit(df_input)"
        },
        {
            "cell_type": "code",
            "execution_count": 28,
            "metadata": {},
            "outputs": [
                {
                    "data": {
                        "text/plain": "array([[-9.00681170e-01,  1.01900435e+00, -1.34022653e+00,\n        -1.31544430e+00],\n       [-1.14301691e+00, -1.31979479e-01, -1.34022653e+00,\n        -1.31544430e+00],\n       [-1.38535265e+00,  3.28414053e-01, -1.39706395e+00,\n        -1.31544430e+00],\n       [-1.50652052e+00,  9.82172869e-02, -1.28338910e+00,\n        -1.31544430e+00],\n       [-1.02184904e+00,  1.24920112e+00, -1.34022653e+00,\n        -1.31544430e+00],\n       [-5.37177559e-01,  1.93979142e+00, -1.16971425e+00,\n        -1.05217993e+00],\n       [-1.50652052e+00,  7.88807586e-01, -1.34022653e+00,\n        -1.18381211e+00],\n       [-1.02184904e+00,  7.88807586e-01, -1.28338910e+00,\n        -1.31544430e+00],\n       [-1.74885626e+00, -3.62176246e-01, -1.34022653e+00,\n        -1.31544430e+00],\n       [-1.14301691e+00,  9.82172869e-02, -1.28338910e+00,\n        -1.44707648e+00],\n       [-5.37177559e-01,  1.47939788e+00, -1.28338910e+00,\n        -1.31544430e+00],\n       [-1.26418478e+00,  7.88807586e-01, -1.22655167e+00,\n        -1.31544430e+00],\n       [-1.26418478e+00, -1.31979479e-01, -1.34022653e+00,\n        -1.44707648e+00],\n       [-1.87002413e+00, -1.31979479e-01, -1.51073881e+00,\n        -1.44707648e+00],\n       [-5.25060772e-02,  2.16998818e+00, -1.45390138e+00,\n        -1.31544430e+00],\n       [-1.73673948e-01,  3.09077525e+00, -1.28338910e+00,\n        -1.05217993e+00],\n       [-5.37177559e-01,  1.93979142e+00, -1.39706395e+00,\n        -1.05217993e+00],\n       [-9.00681170e-01,  1.01900435e+00, -1.34022653e+00,\n        -1.18381211e+00],\n       [-1.73673948e-01,  1.70959465e+00, -1.16971425e+00,\n        -1.18381211e+00],\n       [-9.00681170e-01,  1.70959465e+00, -1.28338910e+00,\n        -1.18381211e+00],\n       [-5.37177559e-01,  7.88807586e-01, -1.16971425e+00,\n        -1.31544430e+00],\n       [-9.00681170e-01,  1.47939788e+00, -1.28338910e+00,\n        -1.05217993e+00],\n       [-1.50652052e+00,  1.24920112e+00, -1.56757623e+00,\n        -1.31544430e+00],\n       [-9.00681170e-01,  5.58610819e-01, -1.16971425e+00,\n        -9.20547742e-01],\n       [-1.26418478e+00,  7.88807586e-01, -1.05603939e+00,\n        -1.31544430e+00],\n       [-1.02184904e+00, -1.31979479e-01, -1.22655167e+00,\n        -1.31544430e+00],\n       [-1.02184904e+00,  7.88807586e-01, -1.22655167e+00,\n        -1.05217993e+00],\n       [-7.79513300e-01,  1.01900435e+00, -1.28338910e+00,\n        -1.31544430e+00],\n       [-7.79513300e-01,  7.88807586e-01, -1.34022653e+00,\n        -1.31544430e+00],\n       [-1.38535265e+00,  3.28414053e-01, -1.22655167e+00,\n        -1.31544430e+00],\n       [-1.26418478e+00,  9.82172869e-02, -1.22655167e+00,\n        -1.31544430e+00],\n       [-5.37177559e-01,  7.88807586e-01, -1.28338910e+00,\n        -1.05217993e+00],\n       [-7.79513300e-01,  2.40018495e+00, -1.28338910e+00,\n        -1.44707648e+00],\n       [-4.16009689e-01,  2.63038172e+00, -1.34022653e+00,\n        -1.31544430e+00],\n       [-1.14301691e+00,  9.82172869e-02, -1.28338910e+00,\n        -1.31544430e+00],\n       [-1.02184904e+00,  3.28414053e-01, -1.45390138e+00,\n        -1.31544430e+00],\n       [-4.16009689e-01,  1.01900435e+00, -1.39706395e+00,\n        -1.31544430e+00],\n       [-1.14301691e+00,  1.24920112e+00, -1.34022653e+00,\n        -1.44707648e+00],\n       [-1.74885626e+00, -1.31979479e-01, -1.39706395e+00,\n        -1.31544430e+00],\n       [-9.00681170e-01,  7.88807586e-01, -1.28338910e+00,\n        -1.31544430e+00],\n       [-1.02184904e+00,  1.01900435e+00, -1.39706395e+00,\n        -1.18381211e+00],\n       [-1.62768839e+00, -1.74335684e+00, -1.39706395e+00,\n        -1.18381211e+00],\n       [-1.74885626e+00,  3.28414053e-01, -1.39706395e+00,\n        -1.31544430e+00],\n       [-1.02184904e+00,  1.01900435e+00, -1.22655167e+00,\n        -7.88915558e-01],\n       [-9.00681170e-01,  1.70959465e+00, -1.05603939e+00,\n        -1.05217993e+00],\n       [-1.26418478e+00, -1.31979479e-01, -1.34022653e+00,\n        -1.18381211e+00],\n       [-9.00681170e-01,  1.70959465e+00, -1.22655167e+00,\n        -1.31544430e+00],\n       [-1.50652052e+00,  3.28414053e-01, -1.34022653e+00,\n        -1.31544430e+00],\n       [-6.58345429e-01,  1.47939788e+00, -1.28338910e+00,\n        -1.31544430e+00],\n       [-1.02184904e+00,  5.58610819e-01, -1.34022653e+00,\n        -1.31544430e+00],\n       [ 1.40150837e+00,  3.28414053e-01,  5.35408562e-01,\n         2.64141916e-01],\n       [ 6.74501145e-01,  3.28414053e-01,  4.21733708e-01,\n         3.95774101e-01],\n       [ 1.28034050e+00,  9.82172869e-02,  6.49083415e-01,\n         3.95774101e-01],\n       [-4.16009689e-01, -1.74335684e+00,  1.37546573e-01,\n         1.32509732e-01],\n       [ 7.95669016e-01, -5.92373012e-01,  4.78571135e-01,\n         3.95774101e-01],\n       [-1.73673948e-01, -5.92373012e-01,  4.21733708e-01,\n         1.32509732e-01],\n       [ 5.53333275e-01,  5.58610819e-01,  5.35408562e-01,\n         5.27406285e-01],\n       [-1.14301691e+00, -1.51316008e+00, -2.60315415e-01,\n        -2.62386821e-01],\n       [ 9.16836886e-01, -3.62176246e-01,  4.78571135e-01,\n         1.32509732e-01],\n       [-7.79513300e-01, -8.22569778e-01,  8.07091462e-02,\n         2.64141916e-01],\n       [-1.02184904e+00, -2.43394714e+00, -1.46640561e-01,\n        -2.62386821e-01],\n       [ 6.86617933e-02, -1.31979479e-01,  2.51221427e-01,\n         3.95774101e-01],\n       [ 1.89829664e-01, -1.97355361e+00,  1.37546573e-01,\n        -2.62386821e-01],\n       [ 3.10997534e-01, -3.62176246e-01,  5.35408562e-01,\n         2.64141916e-01],\n       [-2.94841818e-01, -3.62176246e-01, -8.98031345e-02,\n         1.32509732e-01],\n       [ 1.03800476e+00,  9.82172869e-02,  3.64896281e-01,\n         2.64141916e-01],\n       [-2.94841818e-01, -1.31979479e-01,  4.21733708e-01,\n         3.95774101e-01],\n       [-5.25060772e-02, -8.22569778e-01,  1.94384000e-01,\n        -2.62386821e-01],\n       [ 4.32165405e-01, -1.97355361e+00,  4.21733708e-01,\n         3.95774101e-01],\n       [-2.94841818e-01, -1.28296331e+00,  8.07091462e-02,\n        -1.30754636e-01],\n       [ 6.86617933e-02,  3.28414053e-01,  5.92245988e-01,\n         7.90670654e-01],\n       [ 3.10997534e-01, -5.92373012e-01,  1.37546573e-01,\n         1.32509732e-01],\n       [ 5.53333275e-01, -1.28296331e+00,  6.49083415e-01,\n         3.95774101e-01],\n       [ 3.10997534e-01, -5.92373012e-01,  5.35408562e-01,\n         8.77547895e-04],\n       [ 6.74501145e-01, -3.62176246e-01,  3.08058854e-01,\n         1.32509732e-01],\n       [ 9.16836886e-01, -1.31979479e-01,  3.64896281e-01,\n         2.64141916e-01],\n       [ 1.15917263e+00, -5.92373012e-01,  5.92245988e-01,\n         2.64141916e-01],\n       [ 1.03800476e+00, -1.31979479e-01,  7.05920842e-01,\n         6.59038469e-01],\n       [ 1.89829664e-01, -3.62176246e-01,  4.21733708e-01,\n         3.95774101e-01],\n       [-1.73673948e-01, -1.05276654e+00, -1.46640561e-01,\n        -2.62386821e-01],\n       [-4.16009689e-01, -1.51316008e+00,  2.38717193e-02,\n        -1.30754636e-01],\n       [-4.16009689e-01, -1.51316008e+00, -3.29657076e-02,\n        -2.62386821e-01],\n       [-5.25060772e-02, -8.22569778e-01,  8.07091462e-02,\n         8.77547895e-04],\n       [ 1.89829664e-01, -8.22569778e-01,  7.62758269e-01,\n         5.27406285e-01],\n       [-5.37177559e-01, -1.31979479e-01,  4.21733708e-01,\n         3.95774101e-01],\n       [ 1.89829664e-01,  7.88807586e-01,  4.21733708e-01,\n         5.27406285e-01],\n       [ 1.03800476e+00,  9.82172869e-02,  5.35408562e-01,\n         3.95774101e-01],\n       [ 5.53333275e-01, -1.74335684e+00,  3.64896281e-01,\n         1.32509732e-01],\n       [-2.94841818e-01, -1.31979479e-01,  1.94384000e-01,\n         1.32509732e-01],\n       [-4.16009689e-01, -1.28296331e+00,  1.37546573e-01,\n         1.32509732e-01],\n       [-4.16009689e-01, -1.05276654e+00,  3.64896281e-01,\n         8.77547895e-04],\n       [ 3.10997534e-01, -1.31979479e-01,  4.78571135e-01,\n         2.64141916e-01],\n       [-5.25060772e-02, -1.05276654e+00,  1.37546573e-01,\n         8.77547895e-04],\n       [-1.02184904e+00, -1.74335684e+00, -2.60315415e-01,\n        -2.62386821e-01],\n       [-2.94841818e-01, -8.22569778e-01,  2.51221427e-01,\n         1.32509732e-01],\n       [-1.73673948e-01, -1.31979479e-01,  2.51221427e-01,\n         8.77547895e-04],\n       [-1.73673948e-01, -3.62176246e-01,  2.51221427e-01,\n         1.32509732e-01],\n       [ 4.32165405e-01, -3.62176246e-01,  3.08058854e-01,\n         1.32509732e-01],\n       [-9.00681170e-01, -1.28296331e+00, -4.30827696e-01,\n        -1.30754636e-01],\n       [-1.73673948e-01, -5.92373012e-01,  1.94384000e-01,\n         1.32509732e-01],\n       [ 5.53333275e-01,  5.58610819e-01,  1.27429511e+00,\n         1.71209594e+00],\n       [-5.25060772e-02, -8.22569778e-01,  7.62758269e-01,\n         9.22302838e-01],\n       [ 1.52267624e+00, -1.31979479e-01,  1.21745768e+00,\n         1.18556721e+00],\n       [ 5.53333275e-01, -3.62176246e-01,  1.04694540e+00,\n         7.90670654e-01],\n       [ 7.95669016e-01, -1.31979479e-01,  1.16062026e+00,\n         1.31719939e+00],\n       [ 2.12851559e+00, -1.31979479e-01,  1.61531967e+00,\n         1.18556721e+00],\n       [-1.14301691e+00, -1.28296331e+00,  4.21733708e-01,\n         6.59038469e-01],\n       [ 1.76501198e+00, -3.62176246e-01,  1.44480739e+00,\n         7.90670654e-01],\n       [ 1.03800476e+00, -1.28296331e+00,  1.16062026e+00,\n         7.90670654e-01],\n       [ 1.64384411e+00,  1.24920112e+00,  1.33113254e+00,\n         1.71209594e+00],\n       [ 7.95669016e-01,  3.28414053e-01,  7.62758269e-01,\n         1.05393502e+00],\n       [ 6.74501145e-01, -8.22569778e-01,  8.76433123e-01,\n         9.22302838e-01],\n       [ 1.15917263e+00, -1.31979479e-01,  9.90107977e-01,\n         1.18556721e+00],\n       [-1.73673948e-01, -1.28296331e+00,  7.05920842e-01,\n         1.05393502e+00],\n       [-5.25060772e-02, -5.92373012e-01,  7.62758269e-01,\n         1.58046376e+00],\n       [ 6.74501145e-01,  3.28414053e-01,  8.76433123e-01,\n         1.44883158e+00],\n       [ 7.95669016e-01, -1.31979479e-01,  9.90107977e-01,\n         7.90670654e-01],\n       [ 2.24968346e+00,  1.70959465e+00,  1.67215710e+00,\n         1.31719939e+00],\n       [ 2.24968346e+00, -1.05276654e+00,  1.78583195e+00,\n         1.44883158e+00],\n       [ 1.89829664e-01, -1.97355361e+00,  7.05920842e-01,\n         3.95774101e-01],\n       [ 1.28034050e+00,  3.28414053e-01,  1.10378283e+00,\n         1.44883158e+00],\n       [-2.94841818e-01, -5.92373012e-01,  6.49083415e-01,\n         1.05393502e+00],\n       [ 2.24968346e+00, -5.92373012e-01,  1.67215710e+00,\n         1.05393502e+00],\n       [ 5.53333275e-01, -8.22569778e-01,  6.49083415e-01,\n         7.90670654e-01],\n       [ 1.03800476e+00,  5.58610819e-01,  1.10378283e+00,\n         1.18556721e+00],\n       [ 1.64384411e+00,  3.28414053e-01,  1.27429511e+00,\n         7.90670654e-01],\n       [ 4.32165405e-01, -5.92373012e-01,  5.92245988e-01,\n         7.90670654e-01],\n       [ 3.10997534e-01, -1.31979479e-01,  6.49083415e-01,\n         7.90670654e-01],\n       [ 6.74501145e-01, -5.92373012e-01,  1.04694540e+00,\n         1.18556721e+00],\n       [ 1.64384411e+00, -1.31979479e-01,  1.16062026e+00,\n         5.27406285e-01],\n       [ 1.88617985e+00, -5.92373012e-01,  1.33113254e+00,\n         9.22302838e-01],\n       [ 2.49201920e+00,  1.70959465e+00,  1.50164482e+00,\n         1.05393502e+00],\n       [ 6.74501145e-01, -5.92373012e-01,  1.04694540e+00,\n         1.31719939e+00],\n       [ 5.53333275e-01, -5.92373012e-01,  7.62758269e-01,\n         3.95774101e-01],\n       [ 3.10997534e-01, -1.05276654e+00,  1.04694540e+00,\n         2.64141916e-01],\n       [ 2.24968346e+00, -1.31979479e-01,  1.33113254e+00,\n         1.44883158e+00],\n       [ 5.53333275e-01,  7.88807586e-01,  1.04694540e+00,\n         1.58046376e+00],\n       [ 6.74501145e-01,  9.82172869e-02,  9.90107977e-01,\n         7.90670654e-01],\n       [ 1.89829664e-01, -1.31979479e-01,  5.92245988e-01,\n         7.90670654e-01],\n       [ 1.28034050e+00,  9.82172869e-02,  9.33270550e-01,\n         1.18556721e+00],\n       [ 1.03800476e+00,  9.82172869e-02,  1.04694540e+00,\n         1.58046376e+00],\n       [ 1.28034050e+00,  9.82172869e-02,  7.62758269e-01,\n         1.44883158e+00],\n       [-5.25060772e-02, -8.22569778e-01,  7.62758269e-01,\n         9.22302838e-01],\n       [ 1.15917263e+00,  3.28414053e-01,  1.21745768e+00,\n         1.44883158e+00],\n       [ 1.03800476e+00,  5.58610819e-01,  1.10378283e+00,\n         1.71209594e+00],\n       [ 1.03800476e+00, -1.31979479e-01,  8.19595696e-01,\n         1.44883158e+00],\n       [ 5.53333275e-01, -1.28296331e+00,  7.05920842e-01,\n         9.22302838e-01],\n       [ 7.95669016e-01, -1.31979479e-01,  8.19595696e-01,\n         1.05393502e+00],\n       [ 4.32165405e-01,  7.88807586e-01,  9.33270550e-01,\n         1.44883158e+00],\n       [ 6.86617933e-02, -1.31979479e-01,  7.62758269e-01,\n         7.90670654e-01]])"
                    },
                    "execution_count": 28,
                    "metadata": {},
                    "output_type": "execute_result"
                }
            ],
            "source": "(scaler.transform(df_input))"
        },
        {
            "cell_type": "code",
            "execution_count": 30,
            "metadata": {},
            "outputs": [],
            "source": "df[['sepal length (cm)','sepal width (cm)', 'petal length (cm)', 'petal width (cm)']] = (scaler.transform(df_input))# !pip install --upgrade sklearn"
        },
        {
            "cell_type": "code",
            "execution_count": 31,
            "metadata": {},
            "outputs": [
                {
                    "data": {
                        "text/html": "<div>\n<style scoped>\n    .dataframe tbody tr th:only-of-type {\n        vertical-align: middle;\n    }\n\n    .dataframe tbody tr th {\n        vertical-align: top;\n    }\n\n    .dataframe thead th {\n        text-align: right;\n    }\n</style>\n<table border=\"1\" class=\"dataframe\">\n  <thead>\n    <tr style=\"text-align: right;\">\n      <th></th>\n      <th>sepal length (cm)</th>\n      <th>sepal width (cm)</th>\n      <th>petal length (cm)</th>\n      <th>petal width (cm)</th>\n      <th>target</th>\n    </tr>\n  </thead>\n  <tbody>\n    <tr>\n      <th>0</th>\n      <td>-0.900681</td>\n      <td>1.019004</td>\n      <td>-1.340227</td>\n      <td>-1.315444</td>\n      <td>0</td>\n    </tr>\n    <tr>\n      <th>1</th>\n      <td>-1.143017</td>\n      <td>-0.131979</td>\n      <td>-1.340227</td>\n      <td>-1.315444</td>\n      <td>0</td>\n    </tr>\n    <tr>\n      <th>2</th>\n      <td>-1.385353</td>\n      <td>0.328414</td>\n      <td>-1.397064</td>\n      <td>-1.315444</td>\n      <td>0</td>\n    </tr>\n    <tr>\n      <th>3</th>\n      <td>-1.506521</td>\n      <td>0.098217</td>\n      <td>-1.283389</td>\n      <td>-1.315444</td>\n      <td>0</td>\n    </tr>\n    <tr>\n      <th>4</th>\n      <td>-1.021849</td>\n      <td>1.249201</td>\n      <td>-1.340227</td>\n      <td>-1.315444</td>\n      <td>0</td>\n    </tr>\n  </tbody>\n</table>\n</div>",
                        "text/plain": "   sepal length (cm)  sepal width (cm)  petal length (cm)  petal width (cm)  \\\n0          -0.900681          1.019004          -1.340227         -1.315444   \n1          -1.143017         -0.131979          -1.340227         -1.315444   \n2          -1.385353          0.328414          -1.397064         -1.315444   \n3          -1.506521          0.098217          -1.283389         -1.315444   \n4          -1.021849          1.249201          -1.340227         -1.315444   \n\n   target  \n0       0  \n1       0  \n2       0  \n3       0  \n4       0  "
                    },
                    "execution_count": 31,
                    "metadata": {},
                    "output_type": "execute_result"
                }
            ],
            "source": "df.head()"
        },
        {
            "cell_type": "markdown",
            "metadata": {},
            "source": "## Separar los datos en (Training, Test)"
        },
        {
            "cell_type": "code",
            "execution_count": 72,
            "metadata": {},
            "outputs": [],
            "source": "df = df.join(pd.DataFrame(y, columns=['output']))"
        },
        {
            "cell_type": "code",
            "execution_count": 34,
            "metadata": {},
            "outputs": [],
            "source": "#Split training / Test in 80% / 20%\ntraining = df[:120]"
        },
        {
            "cell_type": "code",
            "execution_count": 35,
            "metadata": {},
            "outputs": [
                {
                    "data": {
                        "text/html": "<div>\n<style scoped>\n    .dataframe tbody tr th:only-of-type {\n        vertical-align: middle;\n    }\n\n    .dataframe tbody tr th {\n        vertical-align: top;\n    }\n\n    .dataframe thead th {\n        text-align: right;\n    }\n</style>\n<table border=\"1\" class=\"dataframe\">\n  <thead>\n    <tr style=\"text-align: right;\">\n      <th></th>\n      <th>sepal length (cm)</th>\n      <th>sepal width (cm)</th>\n      <th>petal length (cm)</th>\n      <th>petal width (cm)</th>\n      <th>target</th>\n      <th>output</th>\n    </tr>\n  </thead>\n  <tbody>\n    <tr>\n      <th>0</th>\n      <td>-0.900681</td>\n      <td>1.019004</td>\n      <td>-1.340227</td>\n      <td>-1.315444</td>\n      <td>0</td>\n      <td>0</td>\n    </tr>\n    <tr>\n      <th>1</th>\n      <td>-1.143017</td>\n      <td>-0.131979</td>\n      <td>-1.340227</td>\n      <td>-1.315444</td>\n      <td>0</td>\n      <td>0</td>\n    </tr>\n    <tr>\n      <th>2</th>\n      <td>-1.385353</td>\n      <td>0.328414</td>\n      <td>-1.397064</td>\n      <td>-1.315444</td>\n      <td>0</td>\n      <td>0</td>\n    </tr>\n    <tr>\n      <th>3</th>\n      <td>-1.506521</td>\n      <td>0.098217</td>\n      <td>-1.283389</td>\n      <td>-1.315444</td>\n      <td>0</td>\n      <td>0</td>\n    </tr>\n    <tr>\n      <th>4</th>\n      <td>-1.021849</td>\n      <td>1.249201</td>\n      <td>-1.340227</td>\n      <td>-1.315444</td>\n      <td>0</td>\n      <td>0</td>\n    </tr>\n  </tbody>\n</table>\n</div>",
                        "text/plain": "   sepal length (cm)  sepal width (cm)  petal length (cm)  petal width (cm)  \\\n0          -0.900681          1.019004          -1.340227         -1.315444   \n1          -1.143017         -0.131979          -1.340227         -1.315444   \n2          -1.385353          0.328414          -1.397064         -1.315444   \n3          -1.506521          0.098217          -1.283389         -1.315444   \n4          -1.021849          1.249201          -1.340227         -1.315444   \n\n   target  output  \n0       0       0  \n1       0       0  \n2       0       0  \n3       0       0  \n4       0       0  "
                    },
                    "execution_count": 35,
                    "metadata": {},
                    "output_type": "execute_result"
                }
            ],
            "source": "training.head()"
        },
        {
            "cell_type": "code",
            "execution_count": 36,
            "metadata": {},
            "outputs": [],
            "source": "test = df[120:150]"
        },
        {
            "cell_type": "code",
            "execution_count": 37,
            "metadata": {},
            "outputs": [
                {
                    "data": {
                        "text/html": "<div>\n<style scoped>\n    .dataframe tbody tr th:only-of-type {\n        vertical-align: middle;\n    }\n\n    .dataframe tbody tr th {\n        vertical-align: top;\n    }\n\n    .dataframe thead th {\n        text-align: right;\n    }\n</style>\n<table border=\"1\" class=\"dataframe\">\n  <thead>\n    <tr style=\"text-align: right;\">\n      <th></th>\n      <th>sepal length (cm)</th>\n      <th>sepal width (cm)</th>\n      <th>petal length (cm)</th>\n      <th>petal width (cm)</th>\n      <th>target</th>\n      <th>output</th>\n    </tr>\n  </thead>\n  <tbody>\n    <tr>\n      <th>120</th>\n      <td>1.280340</td>\n      <td>0.328414</td>\n      <td>1.103783</td>\n      <td>1.448832</td>\n      <td>2</td>\n      <td>2</td>\n    </tr>\n    <tr>\n      <th>121</th>\n      <td>-0.294842</td>\n      <td>-0.592373</td>\n      <td>0.649083</td>\n      <td>1.053935</td>\n      <td>2</td>\n      <td>2</td>\n    </tr>\n    <tr>\n      <th>122</th>\n      <td>2.249683</td>\n      <td>-0.592373</td>\n      <td>1.672157</td>\n      <td>1.053935</td>\n      <td>2</td>\n      <td>2</td>\n    </tr>\n    <tr>\n      <th>123</th>\n      <td>0.553333</td>\n      <td>-0.822570</td>\n      <td>0.649083</td>\n      <td>0.790671</td>\n      <td>2</td>\n      <td>2</td>\n    </tr>\n    <tr>\n      <th>124</th>\n      <td>1.038005</td>\n      <td>0.558611</td>\n      <td>1.103783</td>\n      <td>1.185567</td>\n      <td>2</td>\n      <td>2</td>\n    </tr>\n  </tbody>\n</table>\n</div>",
                        "text/plain": "     sepal length (cm)  sepal width (cm)  petal length (cm)  petal width (cm)  \\\n120           1.280340          0.328414           1.103783          1.448832   \n121          -0.294842         -0.592373           0.649083          1.053935   \n122           2.249683         -0.592373           1.672157          1.053935   \n123           0.553333         -0.822570           0.649083          0.790671   \n124           1.038005          0.558611           1.103783          1.185567   \n\n     target  output  \n120       2       2  \n121       2       2  \n122       2       2  \n123       2       2  \n124       2       2  "
                    },
                    "execution_count": 37,
                    "metadata": {},
                    "output_type": "execute_result"
                }
            ],
            "source": "test.head()"
        },
        {
            "cell_type": "code",
            "execution_count": 73,
            "metadata": {},
            "outputs": [],
            "source": "df_input = df[['sepal length (cm)', 'sepal width (cm)', 'petal length (cm)', 'petal width (cm)']]\ndf_output = df[['output']]"
        },
        {
            "cell_type": "code",
            "execution_count": 74,
            "metadata": {},
            "outputs": [],
            "source": "X_train, X_test, y_train, y_test = train_test_split(df_input, df_output, test_size=0.20, random_state=42)"
        },
        {
            "cell_type": "code",
            "execution_count": 40,
            "metadata": {},
            "outputs": [
                {
                    "name": "stdout",
                    "output_type": "stream",
                    "text": "Training input size:  (120, 4) \nTraining output size:  (120, 1) \nTest input size:  (30, 4) \nTest output size:  (30, 1)\n"
                }
            ],
            "source": "print(\"Training input size: \", X_train.shape, \"\\nTraining output size: \", y_train.shape, \"\\nTest input size: \", X_test.shape, \"\\nTest output size: \", y_test.shape)"
        },
        {
            "cell_type": "code",
            "execution_count": 75,
            "metadata": {},
            "outputs": [
                {
                    "data": {
                        "text/html": "<div>\n<style scoped>\n    .dataframe tbody tr th:only-of-type {\n        vertical-align: middle;\n    }\n\n    .dataframe tbody tr th {\n        vertical-align: top;\n    }\n\n    .dataframe thead th {\n        text-align: right;\n    }\n</style>\n<table border=\"1\" class=\"dataframe\">\n  <thead>\n    <tr style=\"text-align: right;\">\n      <th></th>\n      <th>sepal length (cm)</th>\n      <th>sepal width (cm)</th>\n      <th>petal length (cm)</th>\n      <th>petal width (cm)</th>\n    </tr>\n  </thead>\n  <tbody>\n    <tr>\n      <th>22</th>\n      <td>4.6</td>\n      <td>3.6</td>\n      <td>1.0</td>\n      <td>0.2</td>\n    </tr>\n    <tr>\n      <th>15</th>\n      <td>5.7</td>\n      <td>4.4</td>\n      <td>1.5</td>\n      <td>0.4</td>\n    </tr>\n    <tr>\n      <th>65</th>\n      <td>6.7</td>\n      <td>3.1</td>\n      <td>4.4</td>\n      <td>1.4</td>\n    </tr>\n    <tr>\n      <th>11</th>\n      <td>4.8</td>\n      <td>3.4</td>\n      <td>1.6</td>\n      <td>0.2</td>\n    </tr>\n    <tr>\n      <th>42</th>\n      <td>4.4</td>\n      <td>3.2</td>\n      <td>1.3</td>\n      <td>0.2</td>\n    </tr>\n  </tbody>\n</table>\n</div>",
                        "text/plain": "    sepal length (cm)  sepal width (cm)  petal length (cm)  petal width (cm)\n22                4.6               3.6                1.0               0.2\n15                5.7               4.4                1.5               0.4\n65                6.7               3.1                4.4               1.4\n11                4.8               3.4                1.6               0.2\n42                4.4               3.2                1.3               0.2"
                    },
                    "execution_count": 75,
                    "metadata": {},
                    "output_type": "execute_result"
                }
            ],
            "source": "X_train.head()"
        },
        {
            "cell_type": "markdown",
            "metadata": {},
            "source": "## Lets build our first model (Vamos a crear nuestro primer modelo!!)"
        },
        {
            "cell_type": "code",
            "execution_count": 87,
            "metadata": {},
            "outputs": [],
            "source": "## Create an instance of the desicion tree model\nmodel = DecisionTreeClassifier(random_state=42)"
        },
        {
            "cell_type": "code",
            "execution_count": 88,
            "metadata": {},
            "outputs": [
                {
                    "data": {
                        "text/plain": "<bound method BaseEstimator.get_params of DecisionTreeClassifier(class_weight=None, criterion='gini', max_depth=None,\n            max_features=None, max_leaf_nodes=None,\n            min_impurity_decrease=0.0, min_impurity_split=None,\n            min_samples_leaf=1, min_samples_split=2,\n            min_weight_fraction_leaf=0.0, presort=False, random_state=42,\n            splitter='best')>"
                    },
                    "execution_count": 88,
                    "metadata": {},
                    "output_type": "execute_result"
                }
            ],
            "source": "## Parameters we should considered in our model\nmodel.get_params"
        },
        {
            "cell_type": "code",
            "execution_count": 89,
            "metadata": {},
            "outputs": [
                {
                    "data": {
                        "text/plain": "DecisionTreeClassifier(class_weight=None, criterion='gini', max_depth=None,\n            max_features=None, max_leaf_nodes=None,\n            min_impurity_decrease=0.0, min_impurity_split=None,\n            min_samples_leaf=1, min_samples_split=2,\n            min_weight_fraction_leaf=0.0, presort=False, random_state=42,\n            splitter='best')"
                    },
                    "execution_count": 89,
                    "metadata": {},
                    "output_type": "execute_result"
                }
            ],
            "source": "## Lets train our model, how people call you when you are going to the gym and you are in shape! Clue: That you are a (fit) person\nmodel.fit(X_train, y_train)"
        },
        {
            "cell_type": "code",
            "execution_count": 90,
            "metadata": {},
            "outputs": [],
            "source": "# !pip install --upgrade sklearn\n# !pip install scikit-learn\n# from sklearn.tree import plot_tree"
        },
        {
            "cell_type": "code",
            "execution_count": 91,
            "metadata": {},
            "outputs": [
                {
                    "data": {
                        "text/plain": "array([1, 0, 2, 1, 1, 0, 1, 2, 1, 1, 2, 0, 0, 0, 0, 1, 2, 1, 1, 2, 0, 2,\n       0, 2, 2, 2, 2, 2, 0, 0])"
                    },
                    "execution_count": 91,
                    "metadata": {},
                    "output_type": "execute_result"
                }
            ],
            "source": "## Lets evaluate our model with the test data\nevaluation = model.predict(X_test)\nevaluation"
        },
        {
            "cell_type": "code",
            "execution_count": 92,
            "metadata": {},
            "outputs": [
                {
                    "data": {
                        "text/plain": "array([[10,  0,  0],\n       [ 0,  9,  0],\n       [ 0,  0, 11]])"
                    },
                    "execution_count": 92,
                    "metadata": {},
                    "output_type": "execute_result"
                }
            ],
            "source": "from sklearn.metrics import confusion_matrix, classification_report,accuracy_score\n## Lets create a confusion matrix with the predicted data and the real data\nconfusion_matrix(y_test, evaluation)\n"
        },
        {
            "cell_type": "code",
            "execution_count": 93,
            "metadata": {},
            "outputs": [
                {
                    "name": "stdout",
                    "output_type": "stream",
                    "text": "              precision    recall  f1-score   support\n\n           0       1.00      1.00      1.00        10\n           1       1.00      1.00      1.00         9\n           2       1.00      1.00      1.00        11\n\n   micro avg       1.00      1.00      1.00        30\n   macro avg       1.00      1.00      1.00        30\nweighted avg       1.00      1.00      1.00        30\n\n"
                }
            ],
            "source": "print(classification_report(y_test, evaluation))"
        },
        {
            "cell_type": "code",
            "execution_count": 94,
            "metadata": {},
            "outputs": [
                {
                    "data": {
                        "text/plain": "1.0"
                    },
                    "execution_count": 94,
                    "metadata": {},
                    "output_type": "execute_result"
                }
            ],
            "source": "accuracy_score(y_test, evaluation)"
        },
        {
            "cell_type": "code",
            "execution_count": 97,
            "metadata": {},
            "outputs": [
                {
                    "name": "stdout",
                    "output_type": "stream",
                    "text": "Requirement already up-to-date: scikit-learn in /opt/conda/envs/Python36/lib/python3.6/site-packages (0.23.1)\nRequirement already satisfied, skipping upgrade: threadpoolctl>=2.0.0 in /opt/conda/envs/Python36/lib/python3.6/site-packages (from scikit-learn) (2.1.0)\nRequirement already satisfied, skipping upgrade: numpy>=1.13.3 in /opt/conda/envs/Python36/lib/python3.6/site-packages (from scikit-learn) (1.15.4)\nRequirement already satisfied, skipping upgrade: scipy>=0.19.1 in /opt/conda/envs/Python36/lib/python3.6/site-packages (from scikit-learn) (1.2.0)\nRequirement already satisfied, skipping upgrade: joblib>=0.11 in /opt/conda/envs/Python36/lib/python3.6/site-packages (from scikit-learn) (0.15.1)\n"
                }
            ],
            "source": ""
        },
        {
            "cell_type": "code",
            "execution_count": 98,
            "metadata": {},
            "outputs": [
                {
                    "data": {
                        "text/plain": "'0.20.3'"
                    },
                    "execution_count": 98,
                    "metadata": {},
                    "output_type": "execute_result"
                }
            ],
            "source": "sklearn.__version__"
        },
        {
            "cell_type": "code",
            "execution_count": null,
            "metadata": {},
            "outputs": [],
            "source": "## Metrics to evaluate our predictions. Clue: We used 4 in the introduction to Artificial Intelligence"
        },
        {
            "cell_type": "code",
            "execution_count": null,
            "metadata": {},
            "outputs": [],
            "source": "## Lets check if our model is overfitting or underfitting"
        },
        {
            "cell_type": "code",
            "execution_count": null,
            "metadata": {},
            "outputs": [],
            "source": ""
        },
        {
            "cell_type": "markdown",
            "metadata": {},
            "source": "## Separemos los datos ahora en tres (Training, Test y Validation)"
        },
        {
            "cell_type": "code",
            "execution_count": null,
            "metadata": {},
            "outputs": [],
            "source": "#Split training / Test / Validation in (##)% (##)% (##%)"
        },
        {
            "cell_type": "code",
            "execution_count": null,
            "metadata": {},
            "outputs": [],
            "source": "#Show our datasets"
        },
        {
            "cell_type": "code",
            "execution_count": null,
            "metadata": {},
            "outputs": [],
            "source": "#print our dataset"
        },
        {
            "cell_type": "markdown",
            "metadata": {},
            "source": "## Lets build our second model (Vamos a crear nuestro segundo modelo!!)"
        },
        {
            "cell_type": "code",
            "execution_count": null,
            "metadata": {},
            "outputs": [],
            "source": "## Create an instance of the desicion tree model"
        },
        {
            "cell_type": "code",
            "execution_count": null,
            "metadata": {},
            "outputs": [],
            "source": "## Lets train our model, how people call you when you are going to the gym and you are in shape! Clue: That you are a ___ person"
        },
        {
            "cell_type": "code",
            "execution_count": null,
            "metadata": {},
            "outputs": [],
            "source": "## Lets evaluate our model with the test data"
        },
        {
            "cell_type": "code",
            "execution_count": null,
            "metadata": {},
            "outputs": [],
            "source": "## Lets create a confusion matrix with the predicted data and the real data"
        },
        {
            "cell_type": "code",
            "execution_count": null,
            "metadata": {},
            "outputs": [],
            "source": "## Metrics to evaluate our predictions. Clue: We used 4 in the introduction to Artificial Intelligence"
        },
        {
            "cell_type": "code",
            "execution_count": null,
            "metadata": {},
            "outputs": [],
            "source": "## Lets check if our model is overfitting or underfitting"
        },
        {
            "cell_type": "code",
            "execution_count": null,
            "metadata": {},
            "outputs": [],
            "source": ""
        },
        {
            "cell_type": "markdown",
            "metadata": {},
            "source": "## Separemos los datos ahora en (Training, Test) usando cross validation"
        },
        {
            "cell_type": "code",
            "execution_count": null,
            "metadata": {},
            "outputs": [],
            "source": "#Split training / Test / Validation in (##)% (##)% (##%)"
        },
        {
            "cell_type": "code",
            "execution_count": null,
            "metadata": {},
            "outputs": [],
            "source": "## Create an instance of the desicion tree model"
        },
        {
            "cell_type": "code",
            "execution_count": null,
            "metadata": {},
            "outputs": [],
            "source": "## Lets train our model, using cross validation"
        },
        {
            "cell_type": "code",
            "execution_count": null,
            "metadata": {},
            "outputs": [],
            "source": "## Lets evaluate our model with the test data"
        },
        {
            "cell_type": "code",
            "execution_count": null,
            "metadata": {},
            "outputs": [],
            "source": "## Lets create a confusion matrix with the predicted data and the real data"
        },
        {
            "cell_type": "code",
            "execution_count": null,
            "metadata": {},
            "outputs": [],
            "source": "## Metrics to evaluate our predictions. Clue: We used 4 in the introduction to Artificial Intelligence"
        },
        {
            "cell_type": "code",
            "execution_count": null,
            "metadata": {},
            "outputs": [],
            "source": "## Lets check if our model is overfitting or underfitting"
        },
        {
            "cell_type": "code",
            "execution_count": null,
            "metadata": {},
            "outputs": [],
            "source": ""
        }
    ],
    "metadata": {
        "kernelspec": {
            "display_name": "Python 3.6",
            "language": "python",
            "name": "python3"
        },
        "language_info": {
            "codemirror_mode": {
                "name": "ipython",
                "version": 3
            },
            "file_extension": ".py",
            "mimetype": "text/x-python",
            "name": "python",
            "nbconvert_exporter": "python",
            "pygments_lexer": "ipython3",
            "version": "3.6.9"
        }
    },
    "nbformat": 4,
    "nbformat_minor": 1
}