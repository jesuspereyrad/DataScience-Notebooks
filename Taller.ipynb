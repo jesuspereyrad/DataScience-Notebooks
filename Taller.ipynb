{
    "cells": [
        {
            "cell_type": "markdown",
            "metadata": {
                "collapsed": true
            },
            "source": "# Taller Introducci\u00f3n a inteligencia artificial. (Pr\u00e1tico)"
        },
        {
            "cell_type": "markdown",
            "metadata": {},
            "source": "### En este taller pr\u00e1ctico, aprenderan a crear su propio modelo para clasificar tres tipos de plantas de iris.\n\n\n* Que aprenderemos hoy\n  * Aprender\u00e1s a utilizar Jupyter notebook y su sintaxis sencilla\n  * Aprender\u00e1s las librerias para el tratamiento de la data\n  * Aprender\u00e1s nociones basicas de la libreria scikitlearn para crear modelos\n  * Aprender\u00e1s a separar su dataser en training - test\n  * Aprender\u00e1s a entrenar su modelo con diferentes aparametros.\n  * Aprender\u00e1s a probar el modelo entrenado con la data de validacion.\n  * Aprender\u00e1s a Visualizar su modelo final.\n  * Aprender\u00e1s a utilizar las herramientas de metrica para evaluar el modelo.  "
        },
        {
            "cell_type": "markdown",
            "metadata": {},
            "source": "Que es un notebook en python?"
        },
        {
            "cell_type": "markdown",
            "metadata": {},
            "source": "Un notebook en python es una aplicaci\u00f3n web open-source que permite crear y compartir documentos que contienen c\u00f3digo en vivo, ecuaciones, visualizaci\u00f3n y narraci\u00f3n de texto. Entre los usos m\u00e1s comunes incluye limpieza y transformacion de la data, simulaci\u00f3n num\u00e9rica, modelos estad\u00edsticos, visualizaci\u00f3n de datos, machine learning y mucho m\u00e1s. EL proyecto de Jupyter notebook existe para desarrollar software de c\u00f3digo abierto, est\u00e1ndares abiertos y servicios para interacci\u00f3n computacional entre docenas de lenguajes de programaci\u00f3n."
        },
        {
            "cell_type": "markdown",
            "metadata": {},
            "source": "Okay ya se lo que es un notebook, pero y que es python?"
        },
        {
            "cell_type": "markdown",
            "metadata": {},
            "source": "Python es un lenguaje de programaci\u00f3n interpretado cuya filosof\u00eda hace hincapi\u00e9 en la legibilidad de su c\u00f3digo.\u200b Se trata de un lenguaje de programaci\u00f3n multiparadigma, ya que soporta orientaci\u00f3n a objetos, programaci\u00f3n imperativa y, en menor medida, programaci\u00f3n funcional."
        },
        {
            "cell_type": "markdown",
            "metadata": {},
            "source": "Cuales son las plantas con las que vamos a trabajar hoy?\n\n<img src=\"https://s3.amazonaws.com/assets.datacamp.com/blog_assets/Machine+Learning+R/iris-machinelearning.png\"/>"
        },
        {
            "cell_type": "markdown",
            "metadata": {},
            "source": "## Importar las librerias"
        },
        {
            "cell_type": "code",
            "execution_count": null,
            "metadata": {},
            "outputs": [],
            "source": "## Importar las librerias\nimport pandas as pd\nimport numpy as np\nfrom sklearn.model_selection import cross_val_score\nfrom sklearn.tree import DecisionTreeClassifier\n\n# Import model\nfrom sklearn.datasets import load_iris\n\n#Import visual libraries\n%matplotlib inline\n\nimport matplotlib.pyplot as plt"
        },
        {
            "cell_type": "markdown",
            "metadata": {},
            "source": "## Importar Conjunto de datos"
        },
        {
            "cell_type": "code",
            "execution_count": 9,
            "metadata": {},
            "outputs": [],
            "source": "#import Data"
        },
        {
            "cell_type": "code",
            "execution_count": 10,
            "metadata": {},
            "outputs": [],
            "source": "#Show the data imported"
        },
        {
            "cell_type": "code",
            "execution_count": 11,
            "metadata": {},
            "outputs": [],
            "source": "#Lets describe using statistic our data"
        },
        {
            "cell_type": "code",
            "execution_count": 12,
            "metadata": {},
            "outputs": [],
            "source": "#Graph"
        },
        {
            "cell_type": "code",
            "execution_count": 13,
            "metadata": {},
            "outputs": [],
            "source": "#Matrix correlation"
        },
        {
            "cell_type": "markdown",
            "metadata": {},
            "source": "## Analizar y Limpiar los datos"
        },
        {
            "cell_type": "code",
            "execution_count": 14,
            "metadata": {},
            "outputs": [],
            "source": "#Graph"
        },
        {
            "cell_type": "code",
            "execution_count": 15,
            "metadata": {},
            "outputs": [],
            "source": "#Clean"
        },
        {
            "cell_type": "code",
            "execution_count": null,
            "metadata": {},
            "outputs": [],
            "source": "#Standarization or normalization"
        },
        {
            "cell_type": "markdown",
            "metadata": {},
            "source": "## Separar los datos en (Training, Test)"
        },
        {
            "cell_type": "code",
            "execution_count": 16,
            "metadata": {},
            "outputs": [],
            "source": "#Split training / Test in (##)%"
        },
        {
            "cell_type": "code",
            "execution_count": null,
            "metadata": {},
            "outputs": [],
            "source": ""
        },
        {
            "cell_type": "markdown",
            "metadata": {},
            "source": "## Lets build our first model (Vamos a crear nuestro primer modelo!!)"
        },
        {
            "cell_type": "code",
            "execution_count": 18,
            "metadata": {},
            "outputs": [],
            "source": "## Create an instance of the desicion tree model"
        },
        {
            "cell_type": "code",
            "execution_count": null,
            "metadata": {},
            "outputs": [],
            "source": "## Parameters we should considered in our model"
        },
        {
            "cell_type": "code",
            "execution_count": 19,
            "metadata": {},
            "outputs": [],
            "source": "## Lets train our model, how people call you when you are going to the gym and you are in shape! Clue: That you are a ___ person"
        },
        {
            "cell_type": "code",
            "execution_count": 20,
            "metadata": {},
            "outputs": [],
            "source": "## Lets evaluate our model with the test data"
        },
        {
            "cell_type": "code",
            "execution_count": 21,
            "metadata": {},
            "outputs": [],
            "source": "## Lets create a confusion matrix with the predicted data and the real data"
        },
        {
            "cell_type": "code",
            "execution_count": 22,
            "metadata": {},
            "outputs": [],
            "source": "## Metrics to evaluate our predictions. Clue: We used 4 in the introduction to Artificial Intelligence"
        },
        {
            "cell_type": "code",
            "execution_count": 23,
            "metadata": {},
            "outputs": [],
            "source": "## Lets check if our model is overfitting or underfitting"
        },
        {
            "cell_type": "code",
            "execution_count": null,
            "metadata": {},
            "outputs": [],
            "source": ""
        },
        {
            "cell_type": "markdown",
            "metadata": {},
            "source": "## Separemos los datos ahora en tres (Training, Test y Validation)"
        },
        {
            "cell_type": "code",
            "execution_count": 24,
            "metadata": {},
            "outputs": [],
            "source": "#Split training / Test / Validation in (##)% (##)% (##%)"
        },
        {
            "cell_type": "code",
            "execution_count": 26,
            "metadata": {},
            "outputs": [],
            "source": "#Show our datasets"
        },
        {
            "cell_type": "code",
            "execution_count": 27,
            "metadata": {},
            "outputs": [],
            "source": "#print our dataset"
        },
        {
            "cell_type": "markdown",
            "metadata": {},
            "source": "## Lets build our second model (Vamos a crear nuestro segundo modelo!!)"
        },
        {
            "cell_type": "code",
            "execution_count": 28,
            "metadata": {},
            "outputs": [],
            "source": "## Create an instance of the desicion tree model"
        },
        {
            "cell_type": "code",
            "execution_count": 29,
            "metadata": {},
            "outputs": [],
            "source": "## Lets train our model, how people call you when you are going to the gym and you are in shape! Clue: That you are a ___ person"
        },
        {
            "cell_type": "code",
            "execution_count": 30,
            "metadata": {},
            "outputs": [],
            "source": "## Lets evaluate our model with the test data"
        },
        {
            "cell_type": "code",
            "execution_count": 31,
            "metadata": {},
            "outputs": [],
            "source": "## Lets create a confusion matrix with the predicted data and the real data"
        },
        {
            "cell_type": "code",
            "execution_count": 32,
            "metadata": {},
            "outputs": [],
            "source": "## Metrics to evaluate our predictions. Clue: We used 4 in the introduction to Artificial Intelligence"
        },
        {
            "cell_type": "code",
            "execution_count": 33,
            "metadata": {},
            "outputs": [],
            "source": "## Lets check if our model is overfitting or underfitting"
        },
        {
            "cell_type": "code",
            "execution_count": null,
            "metadata": {},
            "outputs": [],
            "source": ""
        },
        {
            "cell_type": "markdown",
            "metadata": {},
            "source": "## Separemos los datos ahora en (Training, Test) usando cross validation"
        },
        {
            "cell_type": "code",
            "execution_count": 35,
            "metadata": {},
            "outputs": [],
            "source": "#Split training / Test / Validation in (##)% (##)% (##%)"
        },
        {
            "cell_type": "code",
            "execution_count": 36,
            "metadata": {},
            "outputs": [],
            "source": "## Create an instance of the desicion tree model"
        },
        {
            "cell_type": "code",
            "execution_count": 37,
            "metadata": {},
            "outputs": [],
            "source": "## Lets train our model, using cross validation"
        },
        {
            "cell_type": "code",
            "execution_count": 38,
            "metadata": {},
            "outputs": [],
            "source": "## Lets evaluate our model with the test data"
        },
        {
            "cell_type": "code",
            "execution_count": 39,
            "metadata": {},
            "outputs": [],
            "source": "## Lets create a confusion matrix with the predicted data and the real data"
        },
        {
            "cell_type": "code",
            "execution_count": 40,
            "metadata": {},
            "outputs": [],
            "source": "## Metrics to evaluate our predictions. Clue: We used 4 in the introduction to Artificial Intelligence"
        },
        {
            "cell_type": "code",
            "execution_count": 41,
            "metadata": {},
            "outputs": [],
            "source": "## Lets check if our model is overfitting or underfitting"
        },
        {
            "cell_type": "code",
            "execution_count": null,
            "metadata": {},
            "outputs": [],
            "source": ""
        }
    ],
    "metadata": {
        "kernelspec": {
            "display_name": "Python 3.6",
            "language": "python",
            "name": "python3"
        },
        "language_info": {
            "codemirror_mode": {
                "name": "ipython",
                "version": 3
            },
            "file_extension": ".py",
            "mimetype": "text/x-python",
            "name": "python",
            "nbconvert_exporter": "python",
            "pygments_lexer": "ipython3",
            "version": "3.6.9"
        }
    },
    "nbformat": 4,
    "nbformat_minor": 1
}